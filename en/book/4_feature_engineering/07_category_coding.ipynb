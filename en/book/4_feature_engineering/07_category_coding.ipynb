{
 "cells": [
  {
   "cell_type": "markdown",
   "id": "edce1c00",
   "metadata": {},
   "source": [
    "# Codificación de categorías"
   ]
  },
  {
   "cell_type": "markdown",
   "id": "b205da0c",
   "metadata": {},
   "source": [
    "Hello again, welcome back to the machine learning book with scikit-learn. In this chapter, we'll discuss category encoding.\n",
    "\n",
    "The features of our data are sometimes in the form of labels or categories. For example, the state where they live, educational level, or marital status. And remember, at the risk of sounding repetitive, machine learning algorithms work with numerical values."
   ]
  },
  {
   "cell_type": "code",
   "execution_count": null,
   "id": "19c01d70",
   "metadata": {},
   "outputs": [],
   "source": [
    "import pandas as pd\n",
    "import numpy as np\n",
    "\n",
    "dataset = pd.DataFrame([\n",
    " (\"Mexico\", \"Married\", \"High school\"),\n",
    " (\"Colombia\", \"Single\", \"Undergraduate\"),\n",
    " (\"Guinea Equatorial\", \"Divorced\", \"College\"),\n",
    " (\"Mexico\", \"Single\", \"Primary\"),\n",
    " (\"Colombia\", \"Single\", \"Primary\"),\n",
    "], columns=[\"Country\", \"Marital status\", \"Education\" ])\n",
    "\n",
    "dataset\n"
   ]
  },
  {
   "cell_type": "markdown",
   "id": "873a8d74",
   "metadata": {},
   "source": [
    "In this chapter, we'll discuss various ways to encode categorical values so that they can be used by machine learning algorithms.\n",
    "\n",
    "## One-hot encoding\n",
    "\n",
    "A first attempt to represent categorical variables as numerical values is using *One-hot encoding*.\n",
    "\n",
    "In simple terms, one-hot encoding converts a categorical variable into a matrix of zeros and ones. Each column in the matrix represents a unique value that can be taken within the categories of the variable, and each row represents an observation or sample. If a sample belongs to a specific category, the corresponding entry in the matrix will be 1, while all other entries will be zeros.\n",
    "\n",
    "For example, taking our sample dataset, let's encode the country using scikit-learn's *One-hot encoder*:\n",
    "\n",
    "We import from `sklearn.preprocessing` and create an instance:"
   ]
  },
  {
   "cell_type": "code",
   "execution_count": null,
   "id": "46986f97",
   "metadata": {},
   "outputs": [],
   "source": [
    "from sklearn.preprocessing import OneHotEncoder\n",
    "encoder = OneHotEncoder()\n"
   ]
  },
  {
   "cell_type": "markdown",
   "id": "554b6772",
   "metadata": {},
   "source": [
    "And we train our encoder using `fit` by passing it the column we want to encode:"
   ]
  },
  {
   "cell_type": "code",
   "execution_count": null,
   "id": "8608e5a5",
   "metadata": {},
   "outputs": [],
   "source": [
    "encoder.fit(dataset[['Country']])\n"
   ]
  },
  {
   "cell_type": "markdown",
   "id": "b9c1c000",
   "metadata": {},
   "source": [
    "And then we can transform with `transform`, by default, `OneHotEncoder` returns a sparse matrix, because in One-hot encoding the resulting matrix is full of zeros, so we convert it to a dense matrix with `todense`:"
   ]
  },
  {
   "cell_type": "code",
   "execution_count": null,
   "id": "e8f68757",
   "metadata": {},
   "outputs": [],
   "source": [
    "country_transformed = encoder.transform(dataset[['Country']])\n",
    "country_transformed.todense()\n"
   ]
  },
  {
   "cell_type": "markdown",
   "id": "260a016d",
   "metadata": {},
   "source": [
    "You can see the order of the columns by inspecting the `categories_` property:"
   ]
  },
  {
   "cell_type": "code",
   "execution_count": null,
   "id": "c386ccec",
   "metadata": {},
   "outputs": [],
   "source": [
    "encoder.categories_\n"
   ]
  },
  {
   "cell_type": "markdown",
   "id": "6f5831e2",
   "metadata": {},
   "source": [
    "And if you notice, these coincide with the order in which the values appear in the matrix.\n",
    "\n",
    "### Inverse transformation\n",
    "\n",
    "Like many other transformers, `OneHotEncoder` also has the `inverse_transform` method:"
   ]
  },
  {
   "cell_type": "code",
   "execution_count": null,
   "id": "22fc6386",
   "metadata": {},
   "outputs": [],
   "source": [
    "encoder.inverse_transform(\n",
    "    np.asarray(country_transformed.todense())\n",
    ")\n"
   ]
  },
  {
   "cell_type": "markdown",
   "id": "9524333d",
   "metadata": {},
   "source": [
    "### Extra arguments\n",
    "\n",
    "The `OneHotEncoder` class has several extra arguments, but I consider only a couple of them important to mention.\n",
    "\n",
    "It's common to train your encoder with a dataset, in our case we only had three countries in the training dataset, but what will happen when your model receives another country in the future? That's precisely what we can control with the `handle_unknown` argument.\n",
    "\n",
    "Let's create two encoders, setting a different behavior for each one. And while we're at it, we'll specify that we want our encoder to give us a dense matrix by default with `sparse_output`:"
   ]
  },
  {
   "cell_type": "code",
   "execution_count": null,
   "id": "86711b3b",
   "metadata": {},
   "outputs": [],
   "source": [
    "error_encoder = OneHotEncoder(handle_unknown='error', sparse_output=False)\n",
    "ignore_encoder = OneHotEncoder(handle_unknown='ignore', sparse_output=False)\n"
   ]
  },
  {
   "cell_type": "markdown",
   "id": "45b3ab48",
   "metadata": {},
   "source": [
    "Then we train them with our existing data"
   ]
  },
  {
   "cell_type": "code",
   "execution_count": null,
   "id": "28fcd4df",
   "metadata": {},
   "outputs": [],
   "source": [
    "error_encoder.fit(dataset[['Country']])\n",
    "ignore_encoder.fit(dataset[['Country']])\n"
   ]
  },
  {
   "cell_type": "markdown",
   "id": "e59ec3d6",
   "metadata": {},
   "source": [
    "And let's see what happens when we try to test them with new data:"
   ]
  },
  {
   "cell_type": "code",
   "execution_count": null,
   "id": "87e3dd96",
   "metadata": {},
   "outputs": [],
   "source": [
    "new_data = pd.DataFrame(['Costa Rica'], columns=['Country'])\n"
   ]
  },
  {
   "cell_type": "markdown",
   "id": "dfa494df",
   "metadata": {},
   "source": [
    "First, we should try the error approach. In fact, I'm going to put it in a *try-except* block to catch the error - it's important to note that this is the default behavior."
   ]
  },
  {
   "cell_type": "code",
   "execution_count": null,
   "id": "064b8b70",
   "metadata": {},
   "outputs": [],
   "source": [
    "try:\n",
    "\terror_encoder.transform(new_data)\n",
    "except ValueError as ve:\n",
    "\tprint(ve)\n"
   ]
  },
  {
   "cell_type": "markdown",
   "id": "314e8b3d",
   "metadata": {},
   "source": [
    "If we try with the one we told it to ignore, it will return only zeros since it ignores it:"
   ]
  },
  {
   "cell_type": "code",
   "execution_count": null,
   "id": "9190e688",
   "metadata": {},
   "outputs": [],
   "source": [
    "ignore_encoder.transform(new_data)\n"
   ]
  },
  {
   "cell_type": "markdown",
   "id": "f02a6dc3",
   "metadata": {},
   "source": [
    "### When to use `OneHotEncoder`?\n",
    "\n",
    "It's good to use this tool when our categories don't have a predefined order, such as in the case of countries. We can't define which one is greater than the other, no matter how patriotic we feel.\n",
    "\n",
    "## Ordinal encoding\n",
    "\n",
    "There are other types of variables that do allow us to encode a certain notion of order and hierarchy, such as ordinal categorical variables. Think about the level of education within our dataset.\n",
    "\n",
    "Depending on the problem we're facing, we can define that having completed primary education is less than having completed higher education.\n",
    "\n",
    "To reflect these types of relationships, we can use the `OrdinalEncoder`:"
   ]
  },
  {
   "cell_type": "code",
   "execution_count": null,
   "id": "4a103468",
   "metadata": {},
   "outputs": [],
   "source": [
    "from sklearn.preprocessing import OrdinalEncoder\n"
   ]
  },
  {
   "cell_type": "markdown",
   "id": "054a8454",
   "metadata": {},
   "source": [
    "And we create an object of the class, passing as an argument the categories that our variable can take in the order we want them to be considered - if they are not established, the numbers will be assigned randomly:"
   ]
  },
  {
   "cell_type": "code",
   "execution_count": null,
   "id": "9e0cab9d",
   "metadata": {},
   "outputs": [],
   "source": [
    "ordinal_encoder = OrdinalEncoder(categories=[[\n",
    " \"Primary\", \"Secondary\", \"High school\", \"Undergraduate\", \"College\"\n",
    "]])\n"
   ]
  },
  {
   "cell_type": "markdown",
   "id": "e94d057e",
   "metadata": {},
   "source": [
    "And now we can train the encoder:"
   ]
  },
  {
   "cell_type": "code",
   "execution_count": null,
   "id": "8ff8cb83",
   "metadata": {},
   "outputs": [],
   "source": [
    "ordinal_encoder.fit(dataset[['Education']])\n"
   ]
  },
  {
   "cell_type": "markdown",
   "id": "ed409397",
   "metadata": {},
   "source": [
    "And when transforming the dataset, we obtain the expected result:"
   ]
  },
  {
   "cell_type": "code",
   "execution_count": null,
   "id": "23de056c",
   "metadata": {},
   "outputs": [],
   "source": [
    "ordinal_encoder.transform(dataset[['Education']])\n"
   ]
  },
  {
   "cell_type": "markdown",
   "id": "dcceae23",
   "metadata": {},
   "source": [
    "### Extra Arguments\n",
    "\n",
    "Like the *one-hot* encoder, `OrdinalEncoder` has several extra arguments, but perhaps the most important is the one that specifies how to behave with previously unseen information.\n",
    "\n",
    "Let's experiment with the two possible values, `error` and `use_encoded_value`:"
   ]
  },
  {
   "cell_type": "code",
   "execution_count": null,
   "id": "b5c1ab31",
   "metadata": {},
   "outputs": [],
   "source": [
    "error_encoder = OrdinalEncoder(categories=[[\n",
    " \"Primary\", \"Secondary\", \"High school\", \"Undergraduate\", \"College\"\n",
    "]], handle_unknown='error')\n",
    "\n",
    "error_encoder.fit(dataset[['Education']])\n"
   ]
  },
  {
   "cell_type": "markdown",
   "id": "b1f87374",
   "metadata": {},
   "source": [
    "Once again, to handle the error, it must be placed in a *try-except* block:"
   ]
  },
  {
   "cell_type": "code",
   "execution_count": null,
   "id": "5d1967eb",
   "metadata": {},
   "outputs": [],
   "source": [
    "try:\n",
    "\terror_encoder.transform([[\"Kindergarten\"]])\n",
    "except ValueError as ve:\n",
    "\tprint(ve)\n"
   ]
  },
  {
   "cell_type": "markdown",
   "id": "ade09ec6",
   "metadata": {},
   "source": [
    "On the other hand, if we create one that uses the default value, we can set `handle_unknown` to `use_encoded_value`. In this case, it is also necessary to set the `unknown_value` argument:"
   ]
  },
  {
   "cell_type": "code",
   "execution_count": null,
   "id": "508b806f",
   "metadata": {},
   "outputs": [],
   "source": [
    "default_encoder = OrdinalEncoder(categories=[[\n",
    " \"Primary\", \"Secondary\", \"High school\", \"Undergraduate\", \"College\"\n",
    "]],\n",
    " handle_unknown='use_encoded_value',\n",
    "unknown_value=np.nan)\n",
    "\n",
    "default_encoder.fit(dataset[['Education']])\n"
   ]
  },
  {
   "cell_type": "markdown",
   "id": "0fe53527",
   "metadata": {},
   "source": [
    "And if we try to transform a value that didn't exist previously:"
   ]
  },
  {
   "cell_type": "code",
   "execution_count": null,
   "id": "4e94978b",
   "metadata": {},
   "outputs": [],
   "source": [
    "default_encoder.transform([[\"Kindergarten\"]])\n"
   ]
  },
  {
   "cell_type": "markdown",
   "id": "53435ba5",
   "metadata": {},
   "source": [
    "Where it will receive the value of `np.nan` by default instead of failing.\n",
    "\n",
    "### When is it better to use `OrdinalEncoder`?\n",
    "\n",
    "Use ordinal encoder when your variables have a sense of order between them, so you can preserve it when converting from strings to numbers.\n",
    "\n",
    "```{hint} Both `OrdinalEncoder` and `OneHotEncoder` allow training on more than one column at a time. What do you think about encoding the marital status of the data at the same time as either of the other two? Better yet, which encoder makes more sense to use for that attribute of our data?\n",
    "\n",
    "```\n",
    "In the next chapter, we'll see an interesting technique that allows you to go from continuous values to categorical values. I'll see you in the next chapter."
   ]
  }
 ],
 "metadata": {},
 "nbformat": 4,
 "nbformat_minor": 5
}
