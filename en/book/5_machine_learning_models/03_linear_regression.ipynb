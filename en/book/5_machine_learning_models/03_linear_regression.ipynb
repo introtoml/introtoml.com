{
 "cells": [
  {
   "cell_type": "markdown",
   "id": "750de32c",
   "metadata": {},
   "source": [
    "# Regresión lineal"
   ]
  },
  {
   "cell_type": "markdown",
   "id": "e8fbf692",
   "metadata": {},
   "source": [
    "Hello again, ready to learn about linear regression?\n",
    "\n",
    "Linear regression is perhaps one of the most basic algorithms used in the world of machine learning – as the name itself indicates, it helps us solve regression tasks, predicting a continuous numerical value.\n",
    "\n",
    "The `LinearRegression` class is also one of the simplest to use in terms of number of attributes.\n",
    "\n",
    "Let's create a synthetic dataset to practice our regression:"
   ]
  },
  {
   "cell_type": "code",
   "execution_count": null,
   "id": "6502ce27",
   "metadata": {},
   "outputs": [],
   "source": [
    "from sklearn.datasets import make_regression\n",
    "from sklearn.model_selection import train_test_split\n",
    "\n",
    "X, y = make_regression(n_samples=100, n_features=10, bias=2.0, noise=5.0, random_state=42)\n",
    "X_train, X_test, y_train, y_test = train_test_split(X, y)\n"
   ]
  },
  {
   "cell_type": "markdown",
   "id": "af925552",
   "metadata": {},
   "source": [
    "This is a generic dataset, which contains 10 features, in this case it is an array of numerical data ready to be used in regression. Remember that you usually have to do feature engineering, but since we've already covered that in the book, I'm going to skip it here."
   ]
  },
  {
   "cell_type": "code",
   "execution_count": null,
   "id": "f14d4f0f",
   "metadata": {},
   "outputs": [],
   "source": [
    "X[:10]"
   ]
  },
  {
   "cell_type": "markdown",
   "id": "54d73063",
   "metadata": {},
   "source": [
    "The basic steps involve importing the class from the `linear_model` module:"
   ]
  },
  {
   "cell_type": "code",
   "execution_count": null,
   "id": "30a68fc4",
   "metadata": {},
   "outputs": [],
   "source": [
    "from sklearn.linear_model import LinearRegression\n"
   ]
  },
  {
   "cell_type": "markdown",
   "id": "0e370b8a",
   "metadata": {},
   "source": [
    "Create an instance:"
   ]
  },
  {
   "cell_type": "code",
   "execution_count": null,
   "id": "a2268221",
   "metadata": {},
   "outputs": [],
   "source": [
    "linear_regression = LinearRegression()\n"
   ]
  },
  {
   "cell_type": "markdown",
   "id": "00ab5f0d",
   "metadata": {},
   "source": [
    "And call the `fit` method to train the model on the training data:"
   ]
  },
  {
   "cell_type": "code",
   "execution_count": null,
   "id": "4c53683b",
   "metadata": {},
   "outputs": [],
   "source": [
    "linear_regression.fit(X_train, y_train)\n"
   ]
  },
  {
   "cell_type": "markdown",
   "id": "0bab6bf2",
   "metadata": {},
   "source": [
    "Finally, simply call the predict method, passing it the test data:"
   ]
  },
  {
   "cell_type": "code",
   "execution_count": null,
   "id": "70de694d",
   "metadata": {},
   "outputs": [],
   "source": [
    "y_pred = linear_regression.predict(X_test)\n"
   ]
  },
  {
   "cell_type": "markdown",
   "id": "5c246348",
   "metadata": {},
   "source": [
    "In `y_pred` we have our predicted values that we can later use to evaluate the model's performance:"
   ]
  },
  {
   "cell_type": "code",
   "execution_count": null,
   "id": "6ca531cf",
   "metadata": {},
   "outputs": [],
   "source": [
    "from sklearn.metrics import mean_absolute_error\n",
    "\n",
    "mean_absolute_error(y_test, y_pred)\n"
   ]
  },
  {
   "cell_type": "markdown",
   "id": "e0351f17",
   "metadata": {},
   "source": [
    "Or if you prefer, you can see this more graphically with this function that I created for the book:"
   ]
  },
  {
   "cell_type": "code",
   "execution_count": null,
   "id": "634dc43f",
   "metadata": {},
   "outputs": [],
   "source": [
    "from utils import plot_regression_results\n",
    "\n",
    "plot_regression_results(y_test, y_pred)\n"
   ]
  },
  {
   "cell_type": "markdown",
   "id": "5bb5326f",
   "metadata": {},
   "source": [
    "## Arguments of `LinearRegression`\n",
    "\n",
    "As I mentioned, linear regression in scikit-learn is quite simple, with few arguments that have little influence on the model's behavior. We have:\n",
    "\n",
    " - `fit_intercept` (boolean, optional): indicates whether to calculate the intercept (also called \"y-intercept\"). By default, the value is `True`.\n",
    " - `normalize` (boolean, optional): indicates whether the predictor variables (also called \"features\") should be normalized. By default, the value is `False`.\n",
    " - `copy_X` (boolean, optional): indicates whether to make a copy of the predictor variable matrix (`X`) before fitting. By default, the value is `True`.\n",
    " - `n_jobs` (integer, optional): indicates the number of parallel jobs to use for fitting the model. By default, the value is `None`, which means a single job is used.\n",
    " - `positive` (boolean, optional): indicates whether to force the coefficients to be non-negative. By default, the value is `False`.\n",
    "\n",
    "The most important argument is `fit_intercept`, which determines whether to fit a model that includes an \"intercept\". The intercept is the value of the function when all predictor variables are equal to zero. If `fit_intercept=True`, the model will include an independent term. If `fit_intercept=False`, the model will not include an independent term and will pass through the origin.\n",
    "\n",
    "The other arguments have minor effects on the fitted model. `normalize` is used to normalize the predictor variables, which can be useful if the variables have different scales – and you haven't normalized them previously. `n_jobs` controls the number of parallel jobs to use for fitting the model, which can be useful if multiple CPU cores are available – although it's only used in some special cases. Finally, `positive` will force the coefficients to be non-negative, which can be useful in some cases.\n",
    "\n",
    "## Attributes of linear regression\n",
    "\n",
    "The class also has some interesting attributes that might be useful in some situations. The most useful ones are `coef_` and `intercept_`:\n",
    "\n",
    "The `coef_` attribute is a one-dimensional array containing the regression coefficients, one for each input variable in the dataset. The order of the coefficients corresponds to the order of the predictor variables in the input data matrix used to train the model. This can be used to determine, to a limited extent, the importance or weight that each variable has within the model.\n",
    "\n",
    "The `intercept_` attribute is a scalar that represents the value of the dependent variable when all predictor variables are zero. For example, in a linear regression model that predicts house prices based on their size in square meters, the independent term could represent the base price of a house. In this case, the value of the independent term could be used to determine if our algorithm is correctly estimating the price of a \"base\" house.\n",
    "\n",
    "Let's look at a simple example – a small dataset representing house prices in relation to their dimensions in square meters."
   ]
  },
  {
   "cell_type": "code",
   "execution_count": null,
   "id": "e2937f5f",
   "metadata": {},
   "outputs": [],
   "source": [
    "from utils import load_custom_houses\n",
    "square_meters, price = load_custom_houses()\n"
   ]
  },
  {
   "cell_type": "markdown",
   "id": "6cc4cad1",
   "metadata": {},
   "source": [
    "We can train a linear regression:"
   ]
  },
  {
   "cell_type": "code",
   "execution_count": null,
   "id": "eb6e1000",
   "metadata": {},
   "outputs": [],
   "source": [
    "lr = LinearRegression()\n",
    "lr.fit(square_meters, price)\n"
   ]
  },
  {
   "cell_type": "markdown",
   "id": "f5ce08a4",
   "metadata": {},
   "source": [
    "And we can also review its coefficients:"
   ]
  },
  {
   "cell_type": "code",
   "execution_count": null,
   "id": "317f15c3",
   "metadata": {},
   "outputs": [],
   "source": [
    "lr.coef_\n"
   ]
  },
  {
   "cell_type": "markdown",
   "id": "22d8b4cc",
   "metadata": {},
   "source": [
    "And the y-intercept:"
   ]
  },
  {
   "cell_type": "code",
   "execution_count": null,
   "id": "49d2ba19",
   "metadata": {},
   "outputs": [],
   "source": [
    "lr.intercept_\n"
   ]
  },
  {
   "cell_type": "markdown",
   "id": "ef3d5ef6",
   "metadata": {},
   "source": [
    "$$\n",
    "  y = x_1 \\times {lr.coef\\_}_{0} + lr.intercept\\_\n",
    "$$"
   ]
  },
  {
   "cell_type": "markdown",
   "id": "dc31c979",
   "metadata": {},
   "source": [
    "Thanks to this, we have that for each square meter our house has, the price will increase by 373.95.\n",
    "\n",
    "And you can even calculate the total price by multiplying:"
   ]
  },
  {
   "cell_type": "code",
   "execution_count": null,
   "id": "8fa299c5",
   "metadata": {},
   "outputs": [],
   "source": [
    "y = square_meters[0] * lr.coef_[0] + lr.intercept_\n"
   ]
  },
  {
   "cell_type": "markdown",
   "id": "5e91ae4d",
   "metadata": {},
   "source": [
    "$$\n",
    "  price = metros \\times {precioPorMetro} + precioBase\n",
    "$$"
   ]
  },
  {
   "cell_type": "markdown",
   "id": "e96bf6fa",
   "metadata": {},
   "source": [
    "$$\n",
    "  1281537.73 ~= 1810.12 \\times 373.95 + 604641.30\n",
    "$$"
   ]
  },
  {
   "cell_type": "code",
   "execution_count": null,
   "id": "079f2d0a",
   "metadata": {},
   "outputs": [],
   "source": [
    "lr.predict(square_meters[:1])\n"
   ]
  },
  {
   "cell_type": "markdown",
   "id": "1ee514f0",
   "metadata": {},
   "source": [
    "And there you have it, this is linear regression, and believe it or not, it's perhaps the most used model in the industry. Obviously, with many more variables and a lot of feature engineering.\n",
    "\n",
    "I hope the things we covered here are clear to you. Remember that the notebook and slides are in the book's resources.\n",
    "\n",
    "I'll see you in the next chapter to learn more about supervised machine learning."
   ]
  }
 ],
 "metadata": {
  "language_info": {
   "name": "python"
  }
 },
 "nbformat": 4,
 "nbformat_minor": 5
}
