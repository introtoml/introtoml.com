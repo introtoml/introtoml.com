{
 "cells": [
  {
   "cell_type": "markdown",
   "id": "74fa4368",
   "metadata": {},
   "source": [
    "# DictVectorizer"
   ]
  },
  {
   "cell_type": "markdown",
   "id": "3f34b930",
   "metadata": {},
   "source": [
    "Hello, welcome back to this Machine Learning book with scikit-learn. It's time to start talking about feature engineering and data preprocessing. In the vast majority of cases, data preprocessing consists of transforming our variables into numbers so that our model can process them. Let's begin."
   ]
  },
  {
   "cell_type": "markdown",
   "id": "fbcb6746",
   "metadata": {},
   "source": [
    "It is not uncommon to work with information contained in Python dictionaries, after all it is one of the default supported types in the language."
   ]
  },
  {
   "cell_type": "markdown",
   "id": "36949fe8",
   "metadata": {},
   "source": [
    "To handle this type of data, scikit-learn provides us with a data transformer called `DictVectorizer` to convert dictionaries with categorical and numerical features into vector representations."
   ]
  },
  {
   "cell_type": "markdown",
   "id": "dc3e1d75",
   "metadata": {},
   "source": [
    "To demonstrate an example, we are going to create a dataset in the form of a list of dictionaries:"
   ]
  },
  {
   "cell_type": "code",
   "execution_count": null,
   "id": "00d56ec5",
   "metadata": {},
   "outputs": [],
   "source": [
    "data = [\n",
    "    {'name': 'Hugo', 'age': 25, 'city': 'Bogotá'},\n",
    "    {'name': 'Paco', 'age': 30, 'city': 'Tlaxcala'},\n",
    "    {'name': 'Luis', 'age': 22, 'city': 'Buenos Aires'}\n",
    "]"
   ]
  },
  {
   "cell_type": "markdown",
   "id": "1908f0a0",
   "metadata": {},
   "source": [
    "We import the class:"
   ]
  },
  {
   "cell_type": "code",
   "execution_count": null,
   "id": "c840490d",
   "metadata": {},
   "outputs": [],
   "source": [
    "from sklearn.feature_extraction import DictVectorizer"
   ]
  },
  {
   "cell_type": "markdown",
   "id": "5817a269",
   "metadata": {},
   "source": [
    "We initialize an object:"
   ]
  },
  {
   "cell_type": "code",
   "execution_count": null,
   "id": "270b7895",
   "metadata": {},
   "outputs": [],
   "source": [
    "vectorizer = DictVectorizer(sparse=False)"
   ]
  },
  {
   "cell_type": "markdown",
   "id": "fd4835f5",
   "metadata": {},
   "source": [
    "And we train the vectorizer with our input data, and immediately proceed to transform the same input array:"
   ]
  },
  {
   "cell_type": "code",
   "execution_count": null,
   "id": "55a69400",
   "metadata": {},
   "outputs": [],
   "source": [
    "vectorizer.fit(data)\n",
    "vectorized_data = vectorizer.transform(data)"
   ]
  },
  {
   "cell_type": "markdown",
   "id": "e8437735",
   "metadata": {},
   "source": [
    "By doing this, and thanks to the `sparse=False` argument, we obtain a two-dimensional NumPy array:"
   ]
  },
  {
   "cell_type": "code",
   "execution_count": null,
   "id": "5ee410ac",
   "metadata": {},
   "outputs": [],
   "source": [
    "vectorized_data"
   ]
  },
  {
   "cell_type": "markdown",
   "id": "6468e56c",
   "metadata": {},
   "source": [
    "If you're curious about the order of the columns in this two-dimensional array, you can use the `feature_names_` property or the `vocabulary_` property:"
   ]
  },
  {
   "cell_type": "code",
   "execution_count": null,
   "id": "34d7753c",
   "metadata": {},
   "outputs": [],
   "source": [
    "print(vectorizer.feature_names_)\n",
    "print(vectorizer.vocabulary_)"
   ]
  },
  {
   "cell_type": "markdown",
   "id": "4d2d5023",
   "metadata": {},
   "source": [
    "One gives you an ordered list of the columns, while the other gives you a dictionary that maps the name of a column to its corresponding number within the resulting two-dimensional array."
   ]
  },
  {
   "cell_type": "markdown",
   "id": "286dbfec",
   "metadata": {},
   "source": [
    "We can thus see that the text columns have been encoded using the *one-hot encoding* technique, which means a one where the value corresponds and zeros in the rest of the columns. On the other hand, the \"age\" property has remained as the numerical value it already was."
   ]
  },
  {
   "cell_type": "markdown",
   "id": "e908bc81",
   "metadata": {},
   "source": [
    "## Extra parameters"
   ]
  },
  {
   "cell_type": "markdown",
   "id": "27a0d590",
   "metadata": {},
   "source": [
    "Regarding the parameters we pass to the constructor, the most relevant one is one we have already used: `sparse`, which by default is equal to `True`, and when this argument is true, the vectorizer will return a SciPy sparse matrix instead of a NumPy array:"
   ]
  },
  {
   "cell_type": "markdown",
   "id": "443a9125",
   "metadata": {},
   "source": [
    "Perhaps the most relevant argument is `sparse`, which allows specifying the output type:"
   ]
  },
  {
   "cell_type": "code",
   "execution_count": null,
   "id": "c7556b15",
   "metadata": {},
   "outputs": [],
   "source": [
    "vectorizer = DictVectorizer()\n",
    "vectorized_data = vectorizer.fit_transform(data)\n",
    "vectorized_data"
   ]
  },
  {
   "cell_type": "markdown",
   "id": "239e4f9b",
   "metadata": {},
   "source": [
    "```{hint} For homework, I suggest you experiment by passing dictionaries with keys and values that you haven't seen before. Tell me in the comments, what happens?\n",
    "```"
   ]
  },
  {
   "cell_type": "markdown",
   "id": "7a4161a4",
   "metadata": {},
   "source": [
    "## Conclusion"
   ]
  },
  {
   "cell_type": "markdown",
   "id": "9ce7cf32",
   "metadata": {},
   "source": [
    "`DictVectorizer` is a powerful tool; however, it is not always the best way to encode your data."
   ]
  },
  {
   "cell_type": "markdown",
   "id": "a5006e5d",
   "metadata": {},
   "source": [
    "Use it when dealing with structured data in the form of dictionaries, and when their properties are categorical values in the form of strings or numbers."
   ]
  },
  {
   "cell_type": "markdown",
   "id": "a7f548fe",
   "metadata": {},
   "source": [
    "You should also be careful using it when you have high cardinality in categorical values. In our previous example, you could consider the \"name\" property as one with high cardinality, after all, there can be an infinite number of names."
   ]
  },
  {
   "cell_type": "markdown",
   "id": "445692a7",
   "metadata": {},
   "source": [
    "Another thing to keep in mind is that `DictVectorizer` is somewhat generic, and there are times when you'll need more control over how the transformation between input data and features occurs."
   ]
  },
  {
   "cell_type": "markdown",
   "id": "78090c56",
   "metadata": {},
   "source": [
    "Let's continue exploring other ways to prepare our data. I'll see you in the next chapter."
   ]
  }
 ],
 "metadata": {},
 "nbformat": 4,
 "nbformat_minor": 5
}
