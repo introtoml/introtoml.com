{
 "cells": [
  {
   "cell_type": "markdown",
   "id": "fe8c64e9",
   "metadata": {},
   "source": [
    "# Discretización"
   ]
  },
  {
   "cell_type": "markdown",
   "id": "0d276144",
   "metadata": {},
   "source": [
    "Hello again, it's great to see you here. In this chapter, we'll look at a technique known as discretization.\n",
    "\n",
    "As strange as this may sound, there are times when you'll want to convert a variable with a continuous numerical value into a categorical variable.\n",
    "\n",
    "Among the reasons you might want to do something like this are:\n",
    "\n",
    " - To try to improve the model's generalization capabilities\n",
    " - Reduce data complexity\n",
    " - Reduce the impact of extreme values (outliers)\n",
    " - For privacy, to further anonymize our data (although it's not an effective technique on its own)\n",
    "## Binning\n",
    "\n",
    "One way to do this is through a technique known as *binning*, which helps us divide a continuous numerical variable into a fixed number of intervals (or buckets, hence the name *binning*) of more or less equal size.\n",
    "\n",
    "Let's look at this process with a variable that represents the ages of some people:"
   ]
  },
  {
   "cell_type": "code",
   "execution_count": null,
   "id": "b371fe3c",
   "metadata": {},
   "outputs": [],
   "source": [
    "import pandas as pd\n",
    "\n",
    "dataset = pd.DataFrame({\n",
    "    'age': [20, 25, 30, 35, 40, 45, 50, 55, 60, 65],\n",
    "    'savings': [1100, 3000, 5000, 20, 5312, 0, 502, 20, 0, 22000]\n",
    "})\n",
    "\n",
    "dataset\n"
   ]
  },
  {
   "cell_type": "markdown",
   "id": "3aa7537b",
   "metadata": {},
   "source": [
    "In scikit-learn, we can carry out this process through the `KBinsDiscretizer` class.\n",
    "\n",
    "We start by importing it from `sklearn.preprocessing`:"
   ]
  },
  {
   "cell_type": "code",
   "execution_count": null,
   "id": "90892d63",
   "metadata": {},
   "outputs": [],
   "source": [
    "from sklearn.preprocessing import KBinsDiscretizer\n"
   ]
  },
  {
   "cell_type": "markdown",
   "id": "6afa2f92",
   "metadata": {},
   "source": [
    "Among the most important parameters, `KBinsDiscretizer` allows us to set the number of bins we want to create, with a default value of 5. In this case, we will create three using the `n_bins` argument.\n",
    "\n",
    "Another very important aspect, as we saw in a previous section of the book, is that categorical values, such as our bins, must be converted to numeric values to be processed by an algorithm. To specify which type of encoding we want, we can use the `encode` argument. In this case, we will choose `ordinal`, but you can also use `onehot` and `onehot-dense`:"
   ]
  },
  {
   "cell_type": "code",
   "execution_count": null,
   "id": "faf66197",
   "metadata": {},
   "outputs": [],
   "source": [
    "discretizer = KBinsDiscretizer(n_bins=3, encode='ordinal')\n",
    "discretizer.fit(dataset[['age']])\n"
   ]
  },
  {
   "cell_type": "code",
   "execution_count": null,
   "id": "f44bb273",
   "metadata": {},
   "outputs": [],
   "source": [
    "discretizer.transform(dataset[['age']])\n"
   ]
  },
  {
   "cell_type": "markdown",
   "id": "9363bbf7",
   "metadata": {},
   "source": [
    "### Other arguments to the function\n",
    "\n",
    "The `KBinsDiscretizer` class also allows us to specify the strategy to follow in defining the width of the interval covered by each of our bins.\n",
    "\n",
    "We can use the `strategy` argument set to `uniform` if we want the intervals to be of the same size. We can set this value to `quantile` if we want each bin to contain the same number of elements, and lastly, we can use `kmeans` if we want the elements to arrange themselves according to an algorithm similar to *k-means*.\n",
    "\n",
    "### Other cases for discretization\n",
    "\n",
    "Discretization can be applied to ages, energy consumption data, satisfaction levels, housing prices... and so on.\n",
    "\n",
    "## **Binarization**\n",
    "\n",
    "Another way to convert continuous values to discrete values is through a process called binarization. As the name suggests, this technique consists of converting a continuous value into one of two values based on a certain threshold.\n",
    "\n",
    "Scikit-learn offers us the `Binarizer` class:"
   ]
  },
  {
   "cell_type": "code",
   "execution_count": null,
   "id": "1f130bc8",
   "metadata": {},
   "outputs": [],
   "source": [
    "from sklearn.preprocessing import Binarizer\n"
   ]
  },
  {
   "cell_type": "markdown",
   "id": "1156d116",
   "metadata": {},
   "source": [
    "This book section takes only a single argument, the threshold we want to consider for binarization. Suppose we want to binarize the `savings` column in our dataset, and set the threshold to `1000`:"
   ]
  },
  {
   "cell_type": "code",
   "execution_count": null,
   "id": "0208258a",
   "metadata": {},
   "outputs": [],
   "source": [
    "binarizer = Binarizer(threshold=1000)\n"
   ]
  },
  {
   "cell_type": "markdown",
   "id": "9f114bcc",
   "metadata": {},
   "source": [
    "We call the `fit_transform` method, although in this case it doesn't make much sense to call `fit` because there's actually nothing to learn:"
   ]
  },
  {
   "cell_type": "code",
   "execution_count": null,
   "id": "38c86d96",
   "metadata": {},
   "outputs": [],
   "source": [
    "savings_binarized = binarizer.fit_transform(dataset[['savings']])\n",
    "savings_binarized\n"
   ]
  },
  {
   "cell_type": "markdown",
   "id": "feed06e1",
   "metadata": {},
   "source": [
    "**Other cases for binarization**\n",
    "\n",
    "Binarization helps us when we're only interested in knowing if something happened or not, and not necessarily how many times it occurred. For example: instead of counting how many times a user visited a page, we only want to know if they visited it or not. It can also be useful to differentiate between extreme values and those that are not, for example in ages, we could say that someone who is over 100 years old is an extreme case and mark it with a binarizer.\n",
    "\n",
    "And there you have it. You now have some tools to move from a continuous space of values to a discrete one.\n",
    "\n",
    "In the next chapter, we'll look at how to deal with categorical variables, just like the ones we've created here."
   ]
  }
 ],
 "metadata": {},
 "nbformat": 4,
 "nbformat_minor": 5
}
