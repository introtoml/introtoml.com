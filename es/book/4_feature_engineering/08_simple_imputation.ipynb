{
 "cells": [
  {
   "cell_type": "markdown",
   "id": "94f4d869",
   "metadata": {},
   "source": [
    "# Simple imputer"
   ]
  },
  {
   "cell_type": "markdown",
   "id": "fe2705ba",
   "metadata": {},
   "source": [
    "Hey, welcome back to your book on machine learning with scikit-learn.\n",
    "\n",
    "In *machine learning*, it's common to encounter datasets with missing information in some of their columns. Missing information in the scientific Python world is sometimes coded as `NaN`s or null values.\n",
    "\n",
    "Missing information can occur due to various factors: there was an error in data collection, the data was corrupted somewhere, or it was simply never collected.\n",
    "\n",
    "Under certain conditions, it's better to calculate values for these missing values so they don't affect your model's performance, causing biased or incorrect predictions. In fact, many of the algorithms offered by scikit-learn require that your dataset contains no null values.\n",
    "\n",
    "For this task, scikit-learn offers us a class called `SimpleImputer` that helps with the task of filling in missing values through different strategies.\n",
    "\n",
    "Let's create a dataset with some missing data:"
   ]
  },
  {
   "cell_type": "code",
   "execution_count": null,
   "id": "b0396b5e",
   "metadata": {},
   "outputs": [],
   "source": [
    "import pandas as pd\n",
    "\n",
    "data =pd.DataFrame([\n",
    "    ('red', 1, 1.0, -1), ('blue', 2, None, -3), (None, 3, 3.0, -5),\n",
    "    ('red', 4, 4.0, -2), ('red', None, 5.0, -5), ('blue', 6, 6.0, -1),\n",
    "    ('red', 7, None), ('blue', 8, 8.0, None), ('green', 9, 9.0, None),\n",
    "    ('red', 10, 10.0, None),\n",
    "], columns=['color', 'number', 'value', 'other'])\n",
    "\n",
    "data\n"
   ]
  },
  {
   "cell_type": "markdown",
   "id": "783e6d53",
   "metadata": {},
   "source": [
    "To use it, first you need to import it from `sklearn.impute`"
   ]
  },
  {
   "cell_type": "code",
   "execution_count": null,
   "id": "6df24bbd",
   "metadata": {},
   "outputs": [],
   "source": [
    "from sklearn.impute import SimpleImputer\n"
   ]
  },
  {
   "cell_type": "markdown",
   "id": "e132fbe4",
   "metadata": {},
   "source": [
    "First, we will work with numerical values, and with the default arguments of the class, which will use the average:"
   ]
  },
  {
   "cell_type": "code",
   "execution_count": null,
   "id": "c66b3f5d",
   "metadata": {},
   "outputs": [],
   "source": [
    "\n",
    "imputer = SimpleImputer()\n",
    "imputer.fit(data[['value']])\n",
    "data['value'] = imputer.transform(data[['value']])\n",
    "data\n"
   ]
  },
  {
   "cell_type": "markdown",
   "id": "70b1e6f2",
   "metadata": {},
   "source": [
    "Let's say for another column, you want to use the median instead of the average:"
   ]
  },
  {
   "cell_type": "code",
   "execution_count": null,
   "id": "abd8ab7e",
   "metadata": {},
   "outputs": [],
   "source": [
    "imputer = SimpleImputer(strategy='median')\n",
    "imputer.fit(data[['number']])\n",
    "data['number'] = imputer.transform(data[['number']])\n",
    "data\n"
   ]
  },
  {
   "cell_type": "markdown",
   "id": "2dc18fb7",
   "metadata": {},
   "source": [
    "It is also possible to fill in values based on the most frequent element. For example, for the missing value in the `color` column, we can choose this option since the two previous ones only work with numerical data:"
   ]
  },
  {
   "cell_type": "code",
   "execution_count": null,
   "id": "55f05fc3",
   "metadata": {},
   "outputs": [],
   "source": [
    "imputer = SimpleImputer(missing_values=pd.NA, strategy='most_frequent')\n",
    "imputer.fit(data[['color']])\n",
    "data['color'] = imputer.transform(data[['color']]).squeeze()\n",
    "data\n"
   ]
  },
  {
   "cell_type": "markdown",
   "id": "b87c47c5",
   "metadata": {},
   "source": [
    "The fourth and final strategy is to establish a constant value. Useful when you have calculated this value in advance, for this it is ideal to use two arguments `strategy='constant'` and `fill_value` with the value you want to set:"
   ]
  },
  {
   "cell_type": "code",
   "execution_count": null,
   "id": "3a1f6fd0",
   "metadata": {},
   "outputs": [],
   "source": [
    "imputer = SimpleImputer(strategy='constant', fill_value=10)\n",
    "imputer.fit(data[['other']])\n",
    "data['other'] = imputer.transform(data[['other']])\n",
    "data\n"
   ]
  },
  {
   "cell_type": "markdown",
   "id": "5f201dea",
   "metadata": {},
   "source": [
    "And that's how we can have a dataset without missing values, ready to be processed and used to train a machine learning model using scikit-learn.\n",
    "\n",
    "I'll see you in the next chapter, where we'll explore other utilities that scikit-learn offers us to train our models more effectively."
   ]
  }
 ],
 "metadata": {},
 "nbformat": 4,
 "nbformat_minor": 5
}
