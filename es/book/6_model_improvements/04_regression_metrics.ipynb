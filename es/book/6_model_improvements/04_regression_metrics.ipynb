{
 "cells": [
  {
   "cell_type": "markdown",
   "id": "c3edbb0e",
   "metadata": {},
   "source": [
    "# Regression Metrics"
   ]
  },
  {
   "cell_type": "markdown",
   "id": "a72e4e0c",
   "metadata": {},
   "source": [
    "## Regression Metrics\n",
    "\n",
    "First, let's create a dataset that we can use to demonstrate the functions for calculating the metrics:"
   ]
  },
  {
   "cell_type": "code",
   "execution_count": null,
   "id": "00ba86a3",
   "metadata": {},
   "outputs": [],
   "source": [
    "import numpy as np\n",
    "\n",
    "y_true = np.array([3.4, 5.1, 7.9, 9.2, 11.5, 12.4, 14.3, 17.3])\n",
    "y_pred = np.array([3.5, 5.4, 7.2, 9.1, 11.0, 12.9, 14.8, 16.7])\n"
   ]
  },
  {
   "cell_type": "markdown",
   "id": "bdf962a0",
   "metadata": {},
   "source": [
    "$$\n",
    "  \\mathrm{MAE} = \\frac{1}{n} \\sum_{i=1}^{n} |y_i - \\hat{y_i}|\n",
    "$$"
   ]
  },
  {
   "cell_type": "markdown",
   "id": "77f51c9c",
   "metadata": {},
   "source": [
    "### Mean Absolute Error\n",
    "\n",
    "1. Mean Absolute Error measures the average magnitude of errors in predictions. It is calculated as the mean of the absolute differences between predictions and actual values.\n",
    "\n",
    "Where $y_i$ is the actual value of the target variable for the $i$-th observation, $\\hat{y_i}$ is the model's prediction for the $i$-th observation, and $n$ is the total number of observations. In this case, the best value is the one close to 0."
   ]
  },
  {
   "cell_type": "code",
   "execution_count": null,
   "id": "2f7683bb",
   "metadata": {},
   "outputs": [],
   "source": [
    "from sklearn.metrics import mean_absolute_error\n",
    "\n",
    "mean_absolute_error(y_true, y_pred)\n"
   ]
  },
  {
   "cell_type": "markdown",
   "id": "a9b837aa",
   "metadata": {},
   "source": [
    "$$\n",
    "  \\mathrm{MSE} = \\frac{1}{n} \\sum_{i=1}^{n} (y_i - \\hat{y_i})^2\n",
    "$$"
   ]
  },
  {
   "cell_type": "markdown",
   "id": "ac62a4b2",
   "metadata": {},
   "source": [
    "This is a metric to consider when you want to know and minimize the magnitude of the error in the model's predictions. This is an easy-to-interpret metric, as it allows us to confidently state the size of the error, and treats all errors equally; there is a linear relationship between the size of the error and the MAE value. Using this metric, we can communicate that our model \"has an average error of 10 dollars\" if you're talking about a model that predicts prices.\n",
    "\n",
    "### Mean Squared Error\n",
    "\n",
    "The mean squared error, or MSE, measures the average of the squared errors in the predictions. It is calculated as the mean of the squared differences between the predictions and the actual values.\n",
    "\n",
    "Where $y_i$ is the actual value of the target variable for the $i$-th observation, $\\hat{y_i}$ is the model's prediction for the $i$-th observation, and $n$ is the total number of observations. Again, the ideal value is one close to zero."
   ]
  },
  {
   "cell_type": "code",
   "execution_count": null,
   "id": "c0b73fe9",
   "metadata": {},
   "outputs": [],
   "source": [
    "from sklearn.metrics import mean_squared_error\n",
    "\n",
    "mean_squared_error(y_true, y_pred)\n"
   ]
  },
  {
   "cell_type": "markdown",
   "id": "21412766",
   "metadata": {},
   "source": [
    "$$\n",
    "  \\mathrm{RMSE} = \\sqrt{\\mathrm{MSE}}\n",
    "$$"
   ]
  },
  {
   "cell_type": "markdown",
   "id": "cad6f286",
   "metadata": {},
   "source": [
    "This metric is not as simple to interpret, as there is no linear relationship between prediction errors and the value of the metric. This relationship is broken by squaring the error. Squaring also has the effect of magnifying large errors. That is, the greater the difference between predicted and expected values, the greater the resulting squared error. It is not a metric that you can communicate as easily, and it is commonly used internally.\n",
    "\n",
    "### Root mean squared error\n",
    "\n",
    "The root mean squared error (RMSE) measures the mean squared error but takes the square root to express the error in the same units as the target variable."
   ]
  },
  {
   "cell_type": "code",
   "execution_count": null,
   "id": "d43f3b1d",
   "metadata": {},
   "outputs": [],
   "source": [
    "from sklearn.metrics import mean_squared_error\n",
    "\n",
    "mse = mean_squared_error(y_true, y_pred)\n",
    "np.sqrt(mse)\n"
   ]
  },
  {
   "cell_type": "markdown",
   "id": "b0713f7e",
   "metadata": {},
   "source": [
    "$$\n",
    "  \\mathrm{R}^2 = 1 - \\frac{\\mathrm{MSE}}{\\mathrm{Var}(y)}\n",
    "$$"
   ]
  },
  {
   "cell_type": "markdown",
   "id": "4b16cb66",
   "metadata": {},
   "source": [
    "This metric is used to make the mean squared error a little more interpretable and communicable, since taking the square root has the effect of converting our value back to the units of the problem, allowing us to talk about the error in a language that non-technical people can understand.\n",
    "\n",
    "### R-squared\n",
    "\n",
    "The R-squared metric measures the proportion of variance in the target variable that can be explained by the model. R-squared ranges between 0 and 1, with 1 being the best possible result."
   ]
  },
  {
   "cell_type": "code",
   "execution_count": null,
   "id": "9a42e596",
   "metadata": {},
   "outputs": [],
   "source": [
    "from sklearn.metrics import r2_score\n",
    "\n",
    "r2_score(y_true, y_pred)\n"
   ]
  },
  {
   "cell_type": "markdown",
   "id": "b670b7f4",
   "metadata": {},
   "source": [
    "The main objective of R2 is to evaluate the model's ability to explain the variability in the input data. This is also a metric that is mainly used to choose between two or more models, and it is not one that is easy to share with other people who do not have prior knowledge of data science."
   ]
  }
 ],
 "metadata": {
  "language_info": {
   "name": "python"
  }
 },
 "nbformat": 4,
 "nbformat_minor": 5
}
